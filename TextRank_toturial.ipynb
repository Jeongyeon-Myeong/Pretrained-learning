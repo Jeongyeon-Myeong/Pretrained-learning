{
  "nbformat": 4,
  "nbformat_minor": 0,
  "metadata": {
    "colab": {
      "name": "TextRank_toturial.ipynb",
      "provenance": [],
      "collapsed_sections": [],
      "authorship_tag": "ABX9TyNqZ6oBqtojtUUrDpdDPvMW",
      "include_colab_link": true
    },
    "kernelspec": {
      "name": "python3",
      "display_name": "Python 3"
    }
  },
  "cells": [
    {
      "cell_type": "markdown",
      "metadata": {
        "id": "view-in-github",
        "colab_type": "text"
      },
      "source": [
        "<a href=\"https://colab.research.google.com/github/Jeongyeon-Myeong/Text-summmarization/blob/main/TextRank_toturial.ipynb\" target=\"_parent\"><img src=\"https://colab.research.google.com/assets/colab-badge.svg\" alt=\"Open In Colab\"/></a>"
      ]
    },
    {
      "cell_type": "code",
      "metadata": {
        "colab": {
          "base_uri": "https://localhost:8080/"
        },
        "id": "ewsqC7YsPD-F",
        "outputId": "d8566e56-ea68-4989-c82f-dcdf6ea7b59b"
      },
      "source": [
        "pip install summa"
      ],
      "execution_count": null,
      "outputs": [
        {
          "output_type": "stream",
          "text": [
            "Collecting summa\n",
            "\u001b[?25l  Downloading https://files.pythonhosted.org/packages/45/3b/1c7dc435d05aef474c4137328400f1e11787b9bffab1f87a3f160c1fef54/summa-1.2.0.tar.gz (54kB)\n",
            "\r\u001b[K     |██████                          | 10kB 15.7MB/s eta 0:00:01\r\u001b[K     |████████████                    | 20kB 13.6MB/s eta 0:00:01\r\u001b[K     |██████████████████              | 30kB 9.8MB/s eta 0:00:01\r\u001b[K     |███████████████████████▉        | 40kB 8.2MB/s eta 0:00:01\r\u001b[K     |█████████████████████████████▉  | 51kB 5.1MB/s eta 0:00:01\r\u001b[K     |████████████████████████████████| 61kB 3.4MB/s \n",
            "\u001b[?25hRequirement already satisfied: scipy>=0.19 in /usr/local/lib/python3.6/dist-packages (from summa) (1.4.1)\n",
            "Requirement already satisfied: numpy>=1.13.3 in /usr/local/lib/python3.6/dist-packages (from scipy>=0.19->summa) (1.19.4)\n",
            "Building wheels for collected packages: summa\n",
            "  Building wheel for summa (setup.py) ... \u001b[?25l\u001b[?25hdone\n",
            "  Created wheel for summa: filename=summa-1.2.0-cp36-none-any.whl size=54412 sha256=9ae57c19b7d51ab3b5aa1025d3848aa8bf868a7f72de4fc42280a7c6e4e753f0\n",
            "  Stored in directory: /root/.cache/pip/wheels/6a/09/68/e2f2861c01d86407c3fa5220826ed7eed2abaa56b001be5970\n",
            "Successfully built summa\n",
            "Installing collected packages: summa\n",
            "Successfully installed summa-1.2.0\n"
          ],
          "name": "stdout"
        }
      ]
    },
    {
      "cell_type": "code",
      "metadata": {
        "colab": {
          "base_uri": "https://localhost:8080/"
        },
        "id": "UnDx-sfCNv-1",
        "outputId": "cbd32d70-8e1f-4259-9077-7849524020fe"
      },
      "source": [
        "text = \"\"\" New York (CNN)When Liana Barrientos was 23 years old, she got married in Westchester County, New York.\r\n",
        "... A year later, she got married again in Westchester County, but to a different man and without divorcing her first husband.\r\n",
        "... Only 18 days after that marriage, she got hitched yet again. Then, Barrientos declared \"I do\" five more times, sometimes only within two weeks of each other.\r\n",
        "... In 2010, she married once more, this time in the Bronx. In an application for a marriage license, she stated it was her \"first and only\" marriage.\r\n",
        "... Barrientos, now 39, is facing two criminal counts of \"offering a false instrument for filing in the first degree,\" referring to her false statements on the\r\n",
        "... 2010 marriage license application, according to court documents.\r\n",
        "... Prosecutors said the marriages were part of an immigration scam.\r\n",
        "... On Friday, she pleaded not guilty at State Supreme Court in the Bronx, according to her attorney, Christopher Wright, who declined to comment further.\r\n",
        "... After leaving court, Barrientos was arrested and charged with theft of service and criminal trespass for allegedly sneaking into the New York subway through an emergency exit, said Detective\r\n",
        "... Annette Markowski, a police spokeswoman. In total, Barrientos has been married 10 times, with nine of her marriages occurring between 1999 and 2002.\r\n",
        "... All occurred either in Westchester County, Long Island, New Jersey or the Bronx. She is believed to still be married to four men, and at one time, she was married to eight men at once, prosecutors say.\r\n",
        "... Prosecutors said the immigration scam involved some of her husbands, who filed for permanent residence status shortly after the marriages.\r\n",
        "... Any divorces happened only after such filings were approved. It was unclear whether any of the men will be prosecuted.\r\n",
        "... The case was referred to the Bronx District Attorney\\'s Office by Immigration and Customs Enforcement and the Department of Homeland Security\\'s\r\n",
        "... Investigation Division. Seven of the men are from so-called \"red-flagged\" countries, including Egypt, Turkey, Georgia, Pakistan and Mali.\r\n",
        "... Her eighth husband, Rashid Rajput, was deported in 2006 to his native Pakistan after an investigation by the Joint Terrorism Task Force.\r\n",
        "... If convicted, Barrientos faces up to four years in prison.  Her next court appearance is scheduled for May 18.\"\"\"\r\n",
        "\r\n",
        "from summa import summarizer\r\n",
        "print(summarizer.summarize(text))\r\n"
      ],
      "execution_count": null,
      "outputs": [
        {
          "output_type": "stream",
          "text": [
            "New York (CNN)When Liana Barrientos was 23 years old, she got married in Westchester County, New York.\n",
            "A year later, she got married again in Westchester County, but to a different man and without divorcing her first husband.\n",
            "In total, Barrientos has been married 10 times, with nine of her marriages occurring between 1999 and 2002.\n",
            "Prosecutors said the immigration scam involved some of her husbands, who filed for permanent residence status shortly after the marriages.\n"
          ],
          "name": "stdout"
        }
      ]
    },
    {
      "cell_type": "code",
      "metadata": {
        "id": "D2ZCYny-QImZ"
      },
      "source": [
        "New York (CNN)When Liana Barrientos was 23 years old, she got married in Westchester County, New York.\r\n",
        "A year later, she got married again in Westchester County, but to a different man and without divorcing her first husband.\r\n",
        "In total, Barrientos has been married 10 times, with nine of her marriages occurring between 1999 and 2002.\r\n",
        "Prosecutors said the immigration scam involved some of her husbands, who filed for permanent residence status shortly after the marriages."
      ],
      "execution_count": null,
      "outputs": []
    },
    {
      "cell_type": "code",
      "metadata": {
        "colab": {
          "base_uri": "https://localhost:8080/"
        },
        "id": "DJYK9GES9B1T",
        "outputId": "b6bec67d-bb64-41f8-ab16-f136c764be9d"
      },
      "source": [
        "# Keyword extraction\r\n",
        "from summa import keywords\r\n",
        "print(keywords.keywords(text))"
      ],
      "execution_count": null,
      "outputs": [
        {
          "output_type": "stream",
          "text": [
            "barrientos\n",
            "court\n",
            "new\n",
            "york\n",
            "criminal\n",
            "scam\n",
            "division\n",
            "false\n",
            "years\n",
            "year\n",
            "prosecutors said\n",
            "marriage\n",
            "marriages\n",
            "county\n",
            "rashid\n",
            "husband\n",
            "husbands\n",
            "got married\n",
            "terrorism\n"
          ],
          "name": "stdout"
        }
      ]
    }
  ]
}