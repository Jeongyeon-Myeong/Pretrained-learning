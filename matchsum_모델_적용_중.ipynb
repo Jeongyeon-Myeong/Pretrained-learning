{
  "nbformat": 4,
  "nbformat_minor": 0,
  "metadata": {
    "colab": {
      "name": "matchsum 모델 적용 중.ipynb",
      "provenance": [],
      "collapsed_sections": [],
      "machine_shape": "hm",
      "authorship_tag": "ABX9TyNe2JJ10YO3Qu9qQSWYeuAT",
      "include_colab_link": true
    },
    "kernelspec": {
      "name": "python3",
      "display_name": "Python 3"
    },
    "accelerator": "GPU",
    "widgets": {
      "application/vnd.jupyter.widget-state+json": {
        "192f114f0618438c886eaff6b2b87a27": {
          "model_module": "@jupyter-widgets/controls",
          "model_name": "HBoxModel",
          "state": {
            "_view_name": "HBoxView",
            "_dom_classes": [],
            "_model_name": "HBoxModel",
            "_view_module": "@jupyter-widgets/controls",
            "_model_module_version": "1.5.0",
            "_view_count": null,
            "_view_module_version": "1.5.0",
            "box_style": "",
            "layout": "IPY_MODEL_d587149c3da346b5a4243573da618257",
            "_model_module": "@jupyter-widgets/controls",
            "children": [
              "IPY_MODEL_311a5981ea6f4858b51da0570ea4ec80",
              "IPY_MODEL_aeae1244449648a7bcf39f2e907e7c1b"
            ]
          }
        },
        "d587149c3da346b5a4243573da618257": {
          "model_module": "@jupyter-widgets/base",
          "model_name": "LayoutModel",
          "state": {
            "_view_name": "LayoutView",
            "grid_template_rows": null,
            "right": null,
            "justify_content": null,
            "_view_module": "@jupyter-widgets/base",
            "overflow": null,
            "_model_module_version": "1.2.0",
            "_view_count": null,
            "flex_flow": "row wrap",
            "width": "100%",
            "min_width": null,
            "border": null,
            "align_items": null,
            "bottom": null,
            "_model_module": "@jupyter-widgets/base",
            "top": null,
            "grid_column": null,
            "overflow_y": null,
            "overflow_x": null,
            "grid_auto_flow": null,
            "grid_area": null,
            "grid_template_columns": null,
            "flex": null,
            "_model_name": "LayoutModel",
            "justify_items": null,
            "grid_row": null,
            "max_height": null,
            "align_content": null,
            "visibility": null,
            "align_self": null,
            "height": null,
            "min_height": null,
            "padding": null,
            "grid_auto_rows": null,
            "grid_gap": null,
            "max_width": null,
            "order": null,
            "_view_module_version": "1.2.0",
            "grid_template_areas": null,
            "object_position": null,
            "object_fit": null,
            "grid_auto_columns": null,
            "margin": null,
            "display": "inline-flex",
            "left": null
          }
        },
        "311a5981ea6f4858b51da0570ea4ec80": {
          "model_module": "@jupyter-widgets/controls",
          "model_name": "FloatProgressModel",
          "state": {
            "_view_name": "ProgressView",
            "style": "IPY_MODEL_baf088a5695a4fd1a3680483d5ac1681",
            "_dom_classes": [],
            "description": "Test:   0%",
            "_model_name": "FloatProgressModel",
            "bar_style": "danger",
            "max": 30,
            "_view_module": "@jupyter-widgets/controls",
            "_model_module_version": "1.5.0",
            "value": 0,
            "_view_count": null,
            "_view_module_version": "1.5.0",
            "orientation": "horizontal",
            "min": 0,
            "description_tooltip": null,
            "_model_module": "@jupyter-widgets/controls",
            "layout": "IPY_MODEL_c1ffeb720d934fa2b090bbbd4fcc3be9"
          }
        },
        "aeae1244449648a7bcf39f2e907e7c1b": {
          "model_module": "@jupyter-widgets/controls",
          "model_name": "HTMLModel",
          "state": {
            "_view_name": "HTMLView",
            "style": "IPY_MODEL_1cd8bbc73dc44c7f951975fe2d80f7e3",
            "_dom_classes": [],
            "description": "",
            "_model_name": "HTMLModel",
            "placeholder": "​",
            "_view_module": "@jupyter-widgets/controls",
            "_model_module_version": "1.5.0",
            "value": " 0/30 [00:00&lt;?, ?it/s]",
            "_view_count": null,
            "_view_module_version": "1.5.0",
            "description_tooltip": null,
            "_model_module": "@jupyter-widgets/controls",
            "layout": "IPY_MODEL_17e7b386fb01481ca52e86cb129abb04"
          }
        },
        "baf088a5695a4fd1a3680483d5ac1681": {
          "model_module": "@jupyter-widgets/controls",
          "model_name": "ProgressStyleModel",
          "state": {
            "_view_name": "StyleView",
            "_model_name": "ProgressStyleModel",
            "description_width": "initial",
            "_view_module": "@jupyter-widgets/base",
            "_model_module_version": "1.5.0",
            "_view_count": null,
            "_view_module_version": "1.2.0",
            "bar_color": null,
            "_model_module": "@jupyter-widgets/controls"
          }
        },
        "c1ffeb720d934fa2b090bbbd4fcc3be9": {
          "model_module": "@jupyter-widgets/base",
          "model_name": "LayoutModel",
          "state": {
            "_view_name": "LayoutView",
            "grid_template_rows": null,
            "right": null,
            "justify_content": null,
            "_view_module": "@jupyter-widgets/base",
            "overflow": null,
            "_model_module_version": "1.2.0",
            "_view_count": null,
            "flex_flow": null,
            "width": null,
            "min_width": null,
            "border": null,
            "align_items": null,
            "bottom": null,
            "_model_module": "@jupyter-widgets/base",
            "top": null,
            "grid_column": null,
            "overflow_y": null,
            "overflow_x": null,
            "grid_auto_flow": null,
            "grid_area": null,
            "grid_template_columns": null,
            "flex": "2",
            "_model_name": "LayoutModel",
            "justify_items": null,
            "grid_row": null,
            "max_height": null,
            "align_content": null,
            "visibility": null,
            "align_self": null,
            "height": null,
            "min_height": null,
            "padding": null,
            "grid_auto_rows": null,
            "grid_gap": null,
            "max_width": null,
            "order": null,
            "_view_module_version": "1.2.0",
            "grid_template_areas": null,
            "object_position": null,
            "object_fit": null,
            "grid_auto_columns": null,
            "margin": null,
            "display": null,
            "left": null
          }
        },
        "1cd8bbc73dc44c7f951975fe2d80f7e3": {
          "model_module": "@jupyter-widgets/controls",
          "model_name": "DescriptionStyleModel",
          "state": {
            "_view_name": "StyleView",
            "_model_name": "DescriptionStyleModel",
            "description_width": "",
            "_view_module": "@jupyter-widgets/base",
            "_model_module_version": "1.5.0",
            "_view_count": null,
            "_view_module_version": "1.2.0",
            "_model_module": "@jupyter-widgets/controls"
          }
        },
        "17e7b386fb01481ca52e86cb129abb04": {
          "model_module": "@jupyter-widgets/base",
          "model_name": "LayoutModel",
          "state": {
            "_view_name": "LayoutView",
            "grid_template_rows": null,
            "right": null,
            "justify_content": null,
            "_view_module": "@jupyter-widgets/base",
            "overflow": null,
            "_model_module_version": "1.2.0",
            "_view_count": null,
            "flex_flow": null,
            "width": null,
            "min_width": null,
            "border": null,
            "align_items": null,
            "bottom": null,
            "_model_module": "@jupyter-widgets/base",
            "top": null,
            "grid_column": null,
            "overflow_y": null,
            "overflow_x": null,
            "grid_auto_flow": null,
            "grid_area": null,
            "grid_template_columns": null,
            "flex": null,
            "_model_name": "LayoutModel",
            "justify_items": null,
            "grid_row": null,
            "max_height": null,
            "align_content": null,
            "visibility": null,
            "align_self": null,
            "height": null,
            "min_height": null,
            "padding": null,
            "grid_auto_rows": null,
            "grid_gap": null,
            "max_width": null,
            "order": null,
            "_view_module_version": "1.2.0",
            "grid_template_areas": null,
            "object_position": null,
            "object_fit": null,
            "grid_auto_columns": null,
            "margin": null,
            "display": null,
            "left": null
          }
        }
      }
    }
  },
  "cells": [
    {
      "cell_type": "markdown",
      "metadata": {
        "id": "view-in-github",
        "colab_type": "text"
      },
      "source": [
        "<a href=\"https://colab.research.google.com/github/Jeongyeon-Myeong/Text-summmarization/blob/main/matchsum_%EB%AA%A8%EB%8D%B8_%EC%A0%81%EC%9A%A9_%EC%A4%91.ipynb\" target=\"_parent\"><img src=\"https://colab.research.google.com/assets/colab-badge.svg\" alt=\"Open In Colab\"/></a>"
      ]
    },
    {
      "cell_type": "markdown",
      "metadata": {
        "id": "WYUec2IMaWyy"
      },
      "source": [
        "현재 오류 발생,  코드 수정 중입니다."
      ]
    },
    {
      "cell_type": "code",
      "metadata": {
        "colab": {
          "base_uri": "https://localhost:8080/"
        },
        "id": "P8v33rQ0ECdV",
        "outputId": "61c0ecb2-6636-4f2d-8064-5c3e2af770d0"
      },
      "source": [
        "!git clone https://github.com/maszhongming/MatchSum"
      ],
      "execution_count": null,
      "outputs": [
        {
          "output_type": "stream",
          "text": [
            "Cloning into 'MatchSum'...\n",
            "remote: Enumerating objects: 65, done.\u001b[K\n",
            "remote: Counting objects: 100% (65/65), done.\u001b[K\n",
            "remote: Compressing objects: 100% (47/47), done.\u001b[K\n",
            "remote: Total 65 (delta 30), reused 47 (delta 16), pack-reused 0\u001b[K\n",
            "Unpacking objects: 100% (65/65), done.\n"
          ],
          "name": "stdout"
        }
      ]
    },
    {
      "cell_type": "code",
      "metadata": {
        "colab": {
          "base_uri": "https://localhost:8080/"
        },
        "id": "nbg2_2dgGbUa",
        "outputId": "182dbcf1-2ab2-4044-c51c-4606aba5569d"
      },
      "source": [
        "# MatchSum 저장소로 들어가기\r\n",
        "%cd MatchSum"
      ],
      "execution_count": null,
      "outputs": [
        {
          "output_type": "stream",
          "text": [
            "/content/MatchSum\n"
          ],
          "name": "stdout"
        }
      ]
    },
    {
      "cell_type": "code",
      "metadata": {
        "id": "E8Ixr510GpQB"
      },
      "source": [
        "!mkdir -p ./data/"
      ],
      "execution_count": null,
      "outputs": []
    },
    {
      "cell_type": "code",
      "metadata": {
        "id": "sRcaHrrF5lXS"
      },
      "source": [
        "!mkdir -p ./model/"
      ],
      "execution_count": null,
      "outputs": []
    },
    {
      "cell_type": "code",
      "metadata": {
        "id": "4Lo-P0GYj4I5"
      },
      "source": [
        "#taken from this StackOverflow answer: https://stackoverflow.com/a/39225039\r\n",
        "import requests\r\n",
        "\r\n",
        "def download_file_from_google_drive(id, destination):\r\n",
        "    URL = \"https://docs.google.com/uc?export=download\"\r\n",
        "\r\n",
        "    session = requests.Session()\r\n",
        "\r\n",
        "    response = session.get(URL, params = { 'id' : id }, stream = True)\r\n",
        "    token = get_confirm_token(response)\r\n",
        "\r\n",
        "    if token:\r\n",
        "        params = { 'id' : id, 'confirm' : token }\r\n",
        "        response = session.get(URL, params = params, stream = True)\r\n",
        "\r\n",
        "    save_response_content(response, destination)    \r\n",
        "\r\n",
        "def get_confirm_token(response):\r\n",
        "    for key, value in response.cookies.items():\r\n",
        "        if key.startswith('download_warning'):\r\n",
        "            return value\r\n",
        "\r\n",
        "    return None\r\n",
        "\r\n",
        "def save_response_content(response, destination):\r\n",
        "    CHUNK_SIZE = 32768\r\n",
        "\r\n",
        "    with open(destination, \"wb\") as f:\r\n",
        "        for chunk in response.iter_content(CHUNK_SIZE):\r\n",
        "            if chunk: # filter out keep-alive new chunks\r\n",
        "                f.write(chunk)"
      ],
      "execution_count": null,
      "outputs": []
    },
    {
      "cell_type": "code",
      "metadata": {
        "colab": {
          "base_uri": "https://localhost:8080/"
        },
        "id": "NgPt4IitQMtP",
        "outputId": "3e564df2-ce51-4477-fa36-2fcd1fc38aa0"
      },
      "source": [
        "import os\r\n",
        "print (os.getcwd()) #현재 디렉토리의"
      ],
      "execution_count": null,
      "outputs": [
        {
          "output_type": "stream",
          "text": [
            "/content/MatchSum\n"
          ],
          "name": "stdout"
        }
      ]
    },
    {
      "cell_type": "code",
      "metadata": {
        "colab": {
          "base_uri": "https://localhost:8080/"
        },
        "id": "5B4z80z1RXlb",
        "outputId": "1844df2b-2fa9-49ce-bf1c-8d9743c02aa1"
      },
      "source": [
        "os.path.isfile('/content/MatchSum/model/MatchSum_cnndm_bert.ckpt')"
      ],
      "execution_count": null,
      "outputs": [
        {
          "output_type": "execute_result",
          "data": {
            "text/plain": [
              "False"
            ]
          },
          "metadata": {
            "tags": []
          },
          "execution_count": 7
        }
      ]
    },
    {
      "cell_type": "code",
      "metadata": {
        "colab": {
          "base_uri": "https://localhost:8080/"
        },
        "id": "dzOyL2K7UCgL",
        "outputId": "1b5ee2cc-492d-4483-fef0-04277bf70c73"
      },
      "source": [
        "!ls '/content/MatchSum/data'"
      ],
      "execution_count": null,
      "outputs": [
        {
          "output_type": "stream",
          "text": [
            "test_CNNDM_bert.jsonl\t  train_CNNDM_bert.jsonl     val_CNNDM_bert.jsonl\n",
            "test_CNNDM_roberta.jsonl  train_CNNDM_roberta.jsonl  val_CNNDM_roberta.jsonl\n"
          ],
          "name": "stdout"
        }
      ]
    },
    {
      "cell_type": "code",
      "metadata": {
        "id": "62xVWjxaaTN3"
      },
      "source": [
        "from pydrive.auth import GoogleAuth\r\n",
        "from pydrive.drive import GoogleDrive\r\n",
        "from google.colab import auth\r\n",
        "from oauth2client.client import GoogleCredentials"
      ],
      "execution_count": null,
      "outputs": []
    },
    {
      "cell_type": "code",
      "metadata": {
        "id": "QXiyJghrjF8z"
      },
      "source": [
        "# 'https://drive.google.com/open?id=1FG4oiQ6rknIeL2WLtXD0GWyh6pBH9-hX'\r\n",
        "file_id = '1FG4oiQ6rknIeL2WLtXD0GWyh6pBH9-hX'\r\n",
        "destination = '/content/MatchSum/data/ACL2020_data.zip' \r\n",
        "download_file_from_google_drive(file_id, destination)"
      ],
      "execution_count": null,
      "outputs": []
    },
    {
      "cell_type": "code",
      "metadata": {
        "colab": {
          "base_uri": "https://localhost:8080/"
        },
        "id": "HxEBQ6hklWkn",
        "outputId": "bb54f72d-79f1-4aa8-8977-d6101fb51bab"
      },
      "source": [
        "!unzip /content/MatchSum/data/ACL2020_data.zip  -d /content/MatchSum/data/"
      ],
      "execution_count": null,
      "outputs": [
        {
          "output_type": "stream",
          "text": [
            "Archive:  /content/MatchSum/data/ACL2020_data.zip\n",
            "  inflating: /content/MatchSum/data/test_CNNDM_bert.jsonl  \n",
            "  inflating: /content/MatchSum/data/test_CNNDM_roberta.jsonl  \n",
            "  inflating: /content/MatchSum/data/train_CNNDM_bert.jsonl  \n",
            "  inflating: /content/MatchSum/data/train_CNNDM_roberta.jsonl  \n",
            "  inflating: /content/MatchSum/data/val_CNNDM_bert.jsonl  \n",
            "  inflating: /content/MatchSum/data/val_CNNDM_roberta.jsonl  \n"
          ],
          "name": "stdout"
        }
      ]
    },
    {
      "cell_type": "code",
      "metadata": {
        "id": "0r8n_bO8mCG5"
      },
      "source": [
        "# ACL2020_data.zip 제거\r\n",
        "!rm /content/MatchSum/data/ACL2020_data.zip"
      ],
      "execution_count": null,
      "outputs": []
    },
    {
      "cell_type": "code",
      "metadata": {
        "id": "oFpARgCd4Zm6"
      },
      "source": [
        "# https://drive.google.com/file/d/1EzRE7aEsyBKCeXJHKSunaR89QoPhdij5/view\r\n",
        "file_id = '1EzRE7aEsyBKCeXJHKSunaR89QoPhdij5'\r\n",
        "destination = '/content/MatchSum/model/ACL2020_other_model.zip' \r\n",
        "download_file_from_google_drive(file_id, destination)"
      ],
      "execution_count": null,
      "outputs": []
    },
    {
      "cell_type": "code",
      "metadata": {
        "colab": {
          "base_uri": "https://localhost:8080/"
        },
        "id": "TWBje59EJmgy",
        "outputId": "722604c0-2b2a-4948-8b28-1c0610e1ef16"
      },
      "source": [
        "!unzip /content/MatchSum/model/ACL2020_other_model.zip  -d /content/MatchSum/model/"
      ],
      "execution_count": null,
      "outputs": [
        {
          "output_type": "stream",
          "text": [
            "Archive:  /content/MatchSum/model/ACL2020_other_model.zip\n",
            "  inflating: /content/MatchSum/model/MatchSum_multinews.ckpt  \n",
            "  inflating: /content/MatchSum/model/MatchSum_pubmed.ckpt  \n",
            "  inflating: /content/MatchSum/model/MatchSum_reddit.ckpt  \n",
            "  inflating: /content/MatchSum/model/MatchSum_wikihow.ckpt  \n",
            "  inflating: /content/MatchSum/model/MatchSum_xsum.ckpt  \n"
          ],
          "name": "stdout"
        }
      ]
    },
    {
      "cell_type": "code",
      "metadata": {
        "id": "mxETVL62mdt6"
      },
      "source": [
        "# ACL2020_other_model.zip 제거\r\n",
        "!rm /content/MatchSum/model/ACL2020_other_model.zip"
      ],
      "execution_count": null,
      "outputs": []
    },
    {
      "cell_type": "code",
      "metadata": {
        "id": "1ArGTcGL8ZLq"
      },
      "source": [
        "# https://drive.google.com/file/d/1PxMHpDSvP1OJfj1et4ToklevQzcPr-HQ/view\r\n",
        "file_id = '1PxMHpDSvP1OJfj1et4ToklevQzcPr-HQ'\r\n",
        "destination = '/content/MatchSum/model/MatchSum_cnndm_model.zip' \r\n",
        "download_file_from_google_drive(file_id, destination)"
      ],
      "execution_count": null,
      "outputs": []
    },
    {
      "cell_type": "code",
      "metadata": {
        "colab": {
          "base_uri": "https://localhost:8080/"
        },
        "id": "sRHQ9xWp876v",
        "outputId": "9d067dc4-c881-4f9c-e6e1-317cd241cb12"
      },
      "source": [
        "!unzip /content/MatchSum/model/MatchSum_cnndm_model.zip  -d /content/MatchSum/model/"
      ],
      "execution_count": null,
      "outputs": [
        {
          "output_type": "stream",
          "text": [
            "Archive:  /content/MatchSum/model/MatchSum_cnndm_model.zip\n",
            "  inflating: /content/MatchSum/model/MatchSum_cnndm_bert.ckpt  \n",
            "  inflating: /content/MatchSum/model/MatchSum_cnndm_roberta.ckpt  \n"
          ],
          "name": "stdout"
        }
      ]
    },
    {
      "cell_type": "code",
      "metadata": {
        "id": "fl119av29I_C"
      },
      "source": [
        "!rm /content/MatchSum/model/MatchSum_cnndm_model.zip"
      ],
      "execution_count": null,
      "outputs": []
    },
    {
      "cell_type": "code",
      "metadata": {
        "colab": {
          "base_uri": "https://localhost:8080/"
        },
        "id": "Fx9ALJCAAV0b",
        "outputId": "1fdde335-8f76-40b2-fc9b-afda8cfa4dce"
      },
      "source": [
        "!pip install transformers --quiet # package installer for python"
      ],
      "execution_count": null,
      "outputs": [
        {
          "output_type": "stream",
          "text": [
            "\u001b[K     |████████████████████████████████| 1.8MB 5.7MB/s \n",
            "\u001b[K     |████████████████████████████████| 890kB 45.0MB/s \n",
            "\u001b[K     |████████████████████████████████| 2.9MB 43.4MB/s \n",
            "\u001b[?25h  Building wheel for sacremoses (setup.py) ... \u001b[?25l\u001b[?25hdone\n"
          ],
          "name": "stdout"
        }
      ]
    },
    {
      "cell_type": "code",
      "metadata": {
        "id": "1u6EB7YAQgEf"
      },
      "source": [
        "!pip install transformers --quiet"
      ],
      "execution_count": null,
      "outputs": []
    },
    {
      "cell_type": "code",
      "metadata": {
        "colab": {
          "base_uri": "https://localhost:8080/"
        },
        "id": "CTWnV0jKPwPM",
        "outputId": "4c631f1f-d371-404e-892e-83c3de89ad0c"
      },
      "source": [
        "#!pip uninstall transformers\r\n",
        "!pip install transformers==3.5"
      ],
      "execution_count": null,
      "outputs": [
        {
          "output_type": "stream",
          "text": [
            "Collecting transformers==3.5\n",
            "\u001b[?25l  Downloading https://files.pythonhosted.org/packages/9c/34/fb092588df61bf33f113ade030d1cbe74fb73a0353648f8dd938a223dce7/transformers-3.5.0-py3-none-any.whl (1.3MB)\n",
            "\u001b[K     |████████████████████████████████| 1.3MB 4.2MB/s \n",
            "\u001b[?25hRequirement already satisfied: requests in /usr/local/lib/python3.6/dist-packages (from transformers==3.5) (2.23.0)\n",
            "Requirement already satisfied: filelock in /usr/local/lib/python3.6/dist-packages (from transformers==3.5) (3.0.12)\n",
            "Requirement already satisfied: dataclasses; python_version < \"3.7\" in /usr/local/lib/python3.6/dist-packages (from transformers==3.5) (0.8)\n",
            "Requirement already satisfied: regex!=2019.12.17 in /usr/local/lib/python3.6/dist-packages (from transformers==3.5) (2019.12.20)\n",
            "Requirement already satisfied: numpy in /usr/local/lib/python3.6/dist-packages (from transformers==3.5) (1.19.5)\n",
            "Requirement already satisfied: tqdm>=4.27 in /usr/local/lib/python3.6/dist-packages (from transformers==3.5) (4.41.1)\n",
            "Collecting sentencepiece==0.1.91\n",
            "\u001b[?25l  Downloading https://files.pythonhosted.org/packages/d4/a4/d0a884c4300004a78cca907a6ff9a5e9fe4f090f5d95ab341c53d28cbc58/sentencepiece-0.1.91-cp36-cp36m-manylinux1_x86_64.whl (1.1MB)\n",
            "\u001b[K     |████████████████████████████████| 1.1MB 49.9MB/s \n",
            "\u001b[?25hCollecting tokenizers==0.9.3\n",
            "\u001b[?25l  Downloading https://files.pythonhosted.org/packages/4c/34/b39eb9994bc3c999270b69c9eea40ecc6f0e97991dba28282b9fd32d44ee/tokenizers-0.9.3-cp36-cp36m-manylinux1_x86_64.whl (2.9MB)\n",
            "\u001b[K     |████████████████████████████████| 2.9MB 50.6MB/s \n",
            "\u001b[?25hRequirement already satisfied: sacremoses in /usr/local/lib/python3.6/dist-packages (from transformers==3.5) (0.0.43)\n",
            "Requirement already satisfied: packaging in /usr/local/lib/python3.6/dist-packages (from transformers==3.5) (20.8)\n",
            "Requirement already satisfied: protobuf in /usr/local/lib/python3.6/dist-packages (from transformers==3.5) (3.12.4)\n",
            "Requirement already satisfied: certifi>=2017.4.17 in /usr/local/lib/python3.6/dist-packages (from requests->transformers==3.5) (2020.12.5)\n",
            "Requirement already satisfied: idna<3,>=2.5 in /usr/local/lib/python3.6/dist-packages (from requests->transformers==3.5) (2.10)\n",
            "Requirement already satisfied: chardet<4,>=3.0.2 in /usr/local/lib/python3.6/dist-packages (from requests->transformers==3.5) (3.0.4)\n",
            "Requirement already satisfied: urllib3!=1.25.0,!=1.25.1,<1.26,>=1.21.1 in /usr/local/lib/python3.6/dist-packages (from requests->transformers==3.5) (1.24.3)\n",
            "Requirement already satisfied: click in /usr/local/lib/python3.6/dist-packages (from sacremoses->transformers==3.5) (7.1.2)\n",
            "Requirement already satisfied: six in /usr/local/lib/python3.6/dist-packages (from sacremoses->transformers==3.5) (1.15.0)\n",
            "Requirement already satisfied: joblib in /usr/local/lib/python3.6/dist-packages (from sacremoses->transformers==3.5) (1.0.0)\n",
            "Requirement already satisfied: pyparsing>=2.0.2 in /usr/local/lib/python3.6/dist-packages (from packaging->transformers==3.5) (2.4.7)\n",
            "Requirement already satisfied: setuptools in /usr/local/lib/python3.6/dist-packages (from protobuf->transformers==3.5) (51.1.1)\n",
            "Installing collected packages: sentencepiece, tokenizers, transformers\n",
            "  Found existing installation: tokenizers 0.9.4\n",
            "    Uninstalling tokenizers-0.9.4:\n",
            "      Successfully uninstalled tokenizers-0.9.4\n",
            "  Found existing installation: transformers 4.2.1\n",
            "    Uninstalling transformers-4.2.1:\n",
            "      Successfully uninstalled transformers-4.2.1\n",
            "Successfully installed sentencepiece-0.1.91 tokenizers-0.9.3 transformers-3.5.0\n"
          ],
          "name": "stdout"
        }
      ]
    },
    {
      "cell_type": "code",
      "metadata": {
        "id": "xrtF57LwSI13"
      },
      "source": [
        "from transformers import BertModel, BertTokenizer"
      ],
      "execution_count": null,
      "outputs": []
    },
    {
      "cell_type": "code",
      "metadata": {
        "colab": {
          "base_uri": "https://localhost:8080/"
        },
        "id": "xFjSvnrdxQBG",
        "outputId": "c1af7d6d-e236-48ad-cac3-37a33d84e12f"
      },
      "source": [
        "import torch\r\n",
        "model = torch.load('/content/MatchSum/model/MatchSum_cnndm_bert.ckpt')"
      ],
      "execution_count": null,
      "outputs": [
        {
          "output_type": "stream",
          "text": [
            "/usr/local/lib/python3.6/dist-packages/torch/serialization.py:658: SourceChangeWarning: source code of class 'model.MatchSum' has changed. you can retrieve the original source code by accessing the object's source attribute or set `torch.nn.Module.dump_patches = True` and use the patch tool to revert the changes.\n",
            "  warnings.warn(msg, SourceChangeWarning)\n",
            "/usr/local/lib/python3.6/dist-packages/torch/serialization.py:658: SourceChangeWarning: source code of class 'transformers.modeling_bert.BertModel' has changed. you can retrieve the original source code by accessing the object's source attribute or set `torch.nn.Module.dump_patches = True` and use the patch tool to revert the changes.\n",
            "  warnings.warn(msg, SourceChangeWarning)\n",
            "/usr/local/lib/python3.6/dist-packages/torch/serialization.py:658: SourceChangeWarning: source code of class 'transformers.modeling_bert.BertEmbeddings' has changed. you can retrieve the original source code by accessing the object's source attribute or set `torch.nn.Module.dump_patches = True` and use the patch tool to revert the changes.\n",
            "  warnings.warn(msg, SourceChangeWarning)\n",
            "/usr/local/lib/python3.6/dist-packages/torch/serialization.py:658: SourceChangeWarning: source code of class 'torch.nn.modules.sparse.Embedding' has changed. you can retrieve the original source code by accessing the object's source attribute or set `torch.nn.Module.dump_patches = True` and use the patch tool to revert the changes.\n",
            "  warnings.warn(msg, SourceChangeWarning)\n",
            "/usr/local/lib/python3.6/dist-packages/torch/serialization.py:658: SourceChangeWarning: source code of class 'torch.nn.modules.normalization.LayerNorm' has changed. you can retrieve the original source code by accessing the object's source attribute or set `torch.nn.Module.dump_patches = True` and use the patch tool to revert the changes.\n",
            "  warnings.warn(msg, SourceChangeWarning)\n",
            "/usr/local/lib/python3.6/dist-packages/torch/serialization.py:658: SourceChangeWarning: source code of class 'torch.nn.modules.dropout.Dropout' has changed. you can retrieve the original source code by accessing the object's source attribute or set `torch.nn.Module.dump_patches = True` and use the patch tool to revert the changes.\n",
            "  warnings.warn(msg, SourceChangeWarning)\n",
            "/usr/local/lib/python3.6/dist-packages/torch/serialization.py:658: SourceChangeWarning: source code of class 'transformers.modeling_bert.BertEncoder' has changed. you can retrieve the original source code by accessing the object's source attribute or set `torch.nn.Module.dump_patches = True` and use the patch tool to revert the changes.\n",
            "  warnings.warn(msg, SourceChangeWarning)\n",
            "/usr/local/lib/python3.6/dist-packages/torch/serialization.py:658: SourceChangeWarning: source code of class 'torch.nn.modules.container.ModuleList' has changed. you can retrieve the original source code by accessing the object's source attribute or set `torch.nn.Module.dump_patches = True` and use the patch tool to revert the changes.\n",
            "  warnings.warn(msg, SourceChangeWarning)\n",
            "/usr/local/lib/python3.6/dist-packages/torch/serialization.py:658: SourceChangeWarning: source code of class 'transformers.modeling_bert.BertLayer' has changed. you can retrieve the original source code by accessing the object's source attribute or set `torch.nn.Module.dump_patches = True` and use the patch tool to revert the changes.\n",
            "  warnings.warn(msg, SourceChangeWarning)\n",
            "/usr/local/lib/python3.6/dist-packages/torch/serialization.py:658: SourceChangeWarning: source code of class 'transformers.modeling_bert.BertAttention' has changed. you can retrieve the original source code by accessing the object's source attribute or set `torch.nn.Module.dump_patches = True` and use the patch tool to revert the changes.\n",
            "  warnings.warn(msg, SourceChangeWarning)\n",
            "/usr/local/lib/python3.6/dist-packages/torch/serialization.py:658: SourceChangeWarning: source code of class 'transformers.modeling_bert.BertSelfAttention' has changed. you can retrieve the original source code by accessing the object's source attribute or set `torch.nn.Module.dump_patches = True` and use the patch tool to revert the changes.\n",
            "  warnings.warn(msg, SourceChangeWarning)\n",
            "/usr/local/lib/python3.6/dist-packages/torch/serialization.py:658: SourceChangeWarning: source code of class 'torch.nn.modules.linear.Linear' has changed. you can retrieve the original source code by accessing the object's source attribute or set `torch.nn.Module.dump_patches = True` and use the patch tool to revert the changes.\n",
            "  warnings.warn(msg, SourceChangeWarning)\n",
            "/usr/local/lib/python3.6/dist-packages/torch/serialization.py:658: SourceChangeWarning: source code of class 'transformers.modeling_bert.BertSelfOutput' has changed. you can retrieve the original source code by accessing the object's source attribute or set `torch.nn.Module.dump_patches = True` and use the patch tool to revert the changes.\n",
            "  warnings.warn(msg, SourceChangeWarning)\n",
            "/usr/local/lib/python3.6/dist-packages/torch/serialization.py:658: SourceChangeWarning: source code of class 'transformers.modeling_bert.BertOutput' has changed. you can retrieve the original source code by accessing the object's source attribute or set `torch.nn.Module.dump_patches = True` and use the patch tool to revert the changes.\n",
            "  warnings.warn(msg, SourceChangeWarning)\n",
            "/usr/local/lib/python3.6/dist-packages/torch/serialization.py:658: SourceChangeWarning: source code of class 'torch.nn.modules.activation.Tanh' has changed. you can retrieve the original source code by accessing the object's source attribute or set `torch.nn.Module.dump_patches = True` and use the patch tool to revert the changes.\n",
            "  warnings.warn(msg, SourceChangeWarning)\n"
          ],
          "name": "stderr"
        }
      ]
    },
    {
      "cell_type": "code",
      "metadata": {
        "colab": {
          "base_uri": "https://localhost:8080/"
        },
        "id": "yrPkeUpQnc6E",
        "outputId": "cf77f480-0fd5-4a9b-a93c-f22c7045c8a3"
      },
      "source": [
        "# import json\r\n",
        "!pip install fastNLP"
      ],
      "execution_count": null,
      "outputs": [
        {
          "output_type": "stream",
          "text": [
            "Collecting fastNLP\n",
            "\u001b[?25l  Downloading https://files.pythonhosted.org/packages/49/76/c80dc6ba0c29ca0ac7ae8b15d5e443628ed901651b55d4edba9436de59ae/FastNLP-0.6.0.tar.gz (295kB)\n",
            "\r\u001b[K     |█                               | 10kB 18.9MB/s eta 0:00:01\r\u001b[K     |██▏                             | 20kB 25.8MB/s eta 0:00:01\r\u001b[K     |███▎                            | 30kB 28.8MB/s eta 0:00:01\r\u001b[K     |████▍                           | 40kB 20.2MB/s eta 0:00:01\r\u001b[K     |█████▌                          | 51kB 15.8MB/s eta 0:00:01\r\u001b[K     |██████▋                         | 61kB 17.9MB/s eta 0:00:01\r\u001b[K     |███████▊                        | 71kB 14.9MB/s eta 0:00:01\r\u001b[K     |████████▉                       | 81kB 15.5MB/s eta 0:00:01\r\u001b[K     |██████████                      | 92kB 16.2MB/s eta 0:00:01\r\u001b[K     |███████████                     | 102kB 14.4MB/s eta 0:00:01\r\u001b[K     |████████████▏                   | 112kB 14.4MB/s eta 0:00:01\r\u001b[K     |█████████████▎                  | 122kB 14.4MB/s eta 0:00:01\r\u001b[K     |██████████████▍                 | 133kB 14.4MB/s eta 0:00:01\r\u001b[K     |███████████████▌                | 143kB 14.4MB/s eta 0:00:01\r\u001b[K     |████████████████▋               | 153kB 14.4MB/s eta 0:00:01\r\u001b[K     |█████████████████▊              | 163kB 14.4MB/s eta 0:00:01\r\u001b[K     |██████████████████▉             | 174kB 14.4MB/s eta 0:00:01\r\u001b[K     |████████████████████            | 184kB 14.4MB/s eta 0:00:01\r\u001b[K     |█████████████████████           | 194kB 14.4MB/s eta 0:00:01\r\u001b[K     |██████████████████████▏         | 204kB 14.4MB/s eta 0:00:01\r\u001b[K     |███████████████████████▎        | 215kB 14.4MB/s eta 0:00:01\r\u001b[K     |████████████████████████▍       | 225kB 14.4MB/s eta 0:00:01\r\u001b[K     |█████████████████████████▌      | 235kB 14.4MB/s eta 0:00:01\r\u001b[K     |██████████████████████████▋     | 245kB 14.4MB/s eta 0:00:01\r\u001b[K     |███████████████████████████▊    | 256kB 14.4MB/s eta 0:00:01\r\u001b[K     |████████████████████████████▉   | 266kB 14.4MB/s eta 0:00:01\r\u001b[K     |██████████████████████████████  | 276kB 14.4MB/s eta 0:00:01\r\u001b[K     |███████████████████████████████ | 286kB 14.4MB/s eta 0:00:01\r\u001b[K     |████████████████████████████████| 296kB 14.4MB/s \n",
            "\u001b[?25hRequirement already satisfied: numpy>=1.14.2 in /usr/local/lib/python3.6/dist-packages (from fastNLP) (1.19.5)\n",
            "Requirement already satisfied: torch>=1.0.0 in /usr/local/lib/python3.6/dist-packages (from fastNLP) (1.7.0+cu101)\n",
            "Requirement already satisfied: tqdm>=4.28.1 in /usr/local/lib/python3.6/dist-packages (from fastNLP) (4.41.1)\n",
            "Requirement already satisfied: prettytable>=0.7.2 in /usr/local/lib/python3.6/dist-packages (from fastNLP) (2.0.0)\n",
            "Requirement already satisfied: requests in /usr/local/lib/python3.6/dist-packages (from fastNLP) (2.23.0)\n",
            "Requirement already satisfied: spacy in /usr/local/lib/python3.6/dist-packages (from fastNLP) (2.2.4)\n",
            "Requirement already satisfied: regex!=2019.12.17 in /usr/local/lib/python3.6/dist-packages (from fastNLP) (2019.12.20)\n",
            "Requirement already satisfied: future in /usr/local/lib/python3.6/dist-packages (from torch>=1.0.0->fastNLP) (0.16.0)\n",
            "Requirement already satisfied: dataclasses in /usr/local/lib/python3.6/dist-packages (from torch>=1.0.0->fastNLP) (0.8)\n",
            "Requirement already satisfied: typing-extensions in /usr/local/lib/python3.6/dist-packages (from torch>=1.0.0->fastNLP) (3.7.4.3)\n",
            "Requirement already satisfied: setuptools in /usr/local/lib/python3.6/dist-packages (from prettytable>=0.7.2->fastNLP) (51.1.1)\n",
            "Requirement already satisfied: wcwidth in /usr/local/lib/python3.6/dist-packages (from prettytable>=0.7.2->fastNLP) (0.2.5)\n",
            "Requirement already satisfied: chardet<4,>=3.0.2 in /usr/local/lib/python3.6/dist-packages (from requests->fastNLP) (3.0.4)\n",
            "Requirement already satisfied: certifi>=2017.4.17 in /usr/local/lib/python3.6/dist-packages (from requests->fastNLP) (2020.12.5)\n",
            "Requirement already satisfied: idna<3,>=2.5 in /usr/local/lib/python3.6/dist-packages (from requests->fastNLP) (2.10)\n",
            "Requirement already satisfied: urllib3!=1.25.0,!=1.25.1,<1.26,>=1.21.1 in /usr/local/lib/python3.6/dist-packages (from requests->fastNLP) (1.24.3)\n",
            "Requirement already satisfied: wasabi<1.1.0,>=0.4.0 in /usr/local/lib/python3.6/dist-packages (from spacy->fastNLP) (0.8.0)\n",
            "Requirement already satisfied: murmurhash<1.1.0,>=0.28.0 in /usr/local/lib/python3.6/dist-packages (from spacy->fastNLP) (1.0.5)\n",
            "Requirement already satisfied: preshed<3.1.0,>=3.0.2 in /usr/local/lib/python3.6/dist-packages (from spacy->fastNLP) (3.0.5)\n",
            "Requirement already satisfied: thinc==7.4.0 in /usr/local/lib/python3.6/dist-packages (from spacy->fastNLP) (7.4.0)\n",
            "Requirement already satisfied: cymem<2.1.0,>=2.0.2 in /usr/local/lib/python3.6/dist-packages (from spacy->fastNLP) (2.0.5)\n",
            "Requirement already satisfied: srsly<1.1.0,>=1.0.2 in /usr/local/lib/python3.6/dist-packages (from spacy->fastNLP) (1.0.5)\n",
            "Requirement already satisfied: catalogue<1.1.0,>=0.0.7 in /usr/local/lib/python3.6/dist-packages (from spacy->fastNLP) (1.0.0)\n",
            "Requirement already satisfied: plac<1.2.0,>=0.9.6 in /usr/local/lib/python3.6/dist-packages (from spacy->fastNLP) (1.1.3)\n",
            "Requirement already satisfied: blis<0.5.0,>=0.4.0 in /usr/local/lib/python3.6/dist-packages (from spacy->fastNLP) (0.4.1)\n",
            "Requirement already satisfied: importlib-metadata>=0.20; python_version < \"3.8\" in /usr/local/lib/python3.6/dist-packages (from catalogue<1.1.0,>=0.0.7->spacy->fastNLP) (3.3.0)\n",
            "Requirement already satisfied: zipp>=0.5 in /usr/local/lib/python3.6/dist-packages (from importlib-metadata>=0.20; python_version < \"3.8\"->catalogue<1.1.0,>=0.0.7->spacy->fastNLP) (3.4.0)\n",
            "Building wheels for collected packages: fastNLP\n",
            "  Building wheel for fastNLP (setup.py) ... \u001b[?25l\u001b[?25hdone\n",
            "  Created wheel for fastNLP: filename=FastNLP-0.6.0-cp36-none-any.whl size=357809 sha256=d512432ff0158669f10bb2aa5d166cbb28b98007b56a6ae9a24751c33a30590f\n",
            "  Stored in directory: /root/.cache/pip/wheels/c0/d8/e0/3bb2ec341c37364582474ade181e480a2fc1b490fef5fb6b34\n",
            "Successfully built fastNLP\n",
            "Installing collected packages: fastNLP\n",
            "Successfully installed fastNLP-0.6.0\n"
          ],
          "name": "stdout"
        }
      ]
    },
    {
      "cell_type": "code",
      "metadata": {
        "colab": {
          "base_uri": "https://localhost:8080/"
        },
        "id": "oE27Y9SiqmY1",
        "outputId": "6355eb35-3cd7-429f-f8de-6baea4687405"
      },
      "source": [
        "!pip install pyrouge"
      ],
      "execution_count": null,
      "outputs": [
        {
          "output_type": "stream",
          "text": [
            "Collecting pyrouge\n",
            "\u001b[?25l  Downloading https://files.pythonhosted.org/packages/11/85/e522dd6b36880ca19dcf7f262b22365748f56edc6f455e7b6a37d0382c32/pyrouge-0.1.3.tar.gz (60kB)\n",
            "\r\u001b[K     |█████▍                          | 10kB 19.0MB/s eta 0:00:01\r\u001b[K     |██████████▉                     | 20kB 25.3MB/s eta 0:00:01\r\u001b[K     |████████████████▎               | 30kB 29.5MB/s eta 0:00:01\r\u001b[K     |█████████████████████▋          | 40kB 20.6MB/s eta 0:00:01\r\u001b[K     |███████████████████████████     | 51kB 16.7MB/s eta 0:00:01\r\u001b[K     |████████████████████████████████| 61kB 6.8MB/s \n",
            "\u001b[?25hBuilding wheels for collected packages: pyrouge\n",
            "  Building wheel for pyrouge (setup.py) ... \u001b[?25l\u001b[?25hdone\n",
            "  Created wheel for pyrouge: filename=pyrouge-0.1.3-cp36-none-any.whl size=191614 sha256=418a9ebd9cb4b1ee335ea272be0ba568b7c7b7910bc7b60aaa50b65081d903c0\n",
            "  Stored in directory: /root/.cache/pip/wheels/75/d3/0c/e5b04e15b6b87c42e980de3931d2686e14d36e045058983599\n",
            "Successfully built pyrouge\n",
            "Installing collected packages: pyrouge\n",
            "Successfully installed pyrouge-0.1.3\n"
          ],
          "name": "stdout"
        }
      ]
    },
    {
      "cell_type": "code",
      "metadata": {
        "colab": {
          "base_uri": "https://localhost:8080/"
        },
        "id": "RgBwn9VEqxbS",
        "outputId": "7b00aeab-8134-4d0d-f6f1-b9864b93e93a"
      },
      "source": [
        "!pip install rouge"
      ],
      "execution_count": null,
      "outputs": [
        {
          "output_type": "stream",
          "text": [
            "Collecting rouge\n",
            "  Downloading https://files.pythonhosted.org/packages/43/cc/e18e33be20971ff73a056ebdb023476b5a545e744e3fc22acd8c758f1e0d/rouge-1.0.0-py3-none-any.whl\n",
            "Requirement already satisfied: six in /usr/local/lib/python3.6/dist-packages (from rouge) (1.15.0)\n",
            "Installing collected packages: rouge\n",
            "Successfully installed rouge-1.0.0\n"
          ],
          "name": "stdout"
        }
      ]
    },
    {
      "cell_type": "code",
      "metadata": {
        "colab": {
          "base_uri": "https://localhost:8080/"
        },
        "id": "qoOjGqX8nIdz",
        "outputId": "070bc16a-febf-422f-8889-aa8e4bd2058c"
      },
      "source": [
        "'''\r\n",
        "# train\r\n",
        "!CUDA_VISIBLE_DEVICES=0,1,2,3,4,5,6,7\r\n",
        " python train_matching.py\r\n",
        " --mode=train \r\n",
        " --encoder=roberta \r\n",
        " --save_path=./roberta \r\n",
        " --gpus=0,1,2,3,4,5,6,7\r\n",
        "# test\r\n",
        "!CUDA_VISIBLE_DEVICES=0 \r\n",
        " python train_matching.py \r\n",
        " --mode=test \r\n",
        " --encoder=roberta \r\n",
        " --save_path=./roberta/2020-04-12-09-24-51/ \r\n",
        " --gpus=0\r\n",
        "# Process Your Own Data\r\n",
        "!python get_candidate.py \r\n",
        " --tokenizer=bert \r\n",
        " --data_path=/path/to/your_original_data.jsonl \r\n",
        " --index_path=/path/to/your_index.jsonl \r\n",
        " --write_path=/path/to/store/your_processed_data.jsonl\r\n",
        "'''"
      ],
      "execution_count": null,
      "outputs": [
        {
          "output_type": "stream",
          "text": [
            "Training process of MatchSum !!!\n",
            "Traceback (most recent call last):\n",
            "  File \"train_matching.py\", line 149, in <module>\n",
            "    train_model(args)\n",
            "  File \"train_matching.py\", line 40, in train_model\n",
            "    assert exists(data_paths[name])\n",
            "AssertionError\n"
          ],
          "name": "stdout"
        }
      ]
    },
    {
      "cell_type": "code",
      "metadata": {
        "colab": {
          "base_uri": "https://localhost:8080/"
        },
        "id": "2ruLaufWvqhf",
        "outputId": "c285f293-adb3-4851-d9dc-0012b6af93a6"
      },
      "source": [
        "# GPU 디바이스 이름 구함\r\n",
        "import tensorflow as tf\r\n",
        "device_name = tf.test.gpu_device_name()\r\n",
        "\r\n",
        "# GPU 디바이스 이름 검사\r\n",
        "if device_name == '/device:GPU:0':\r\n",
        "    print('Found GPU at: {}'.format(device_name))\r\n",
        "else:\r\n",
        "    raise SystemError('GPU device not found')"
      ],
      "execution_count": null,
      "outputs": [
        {
          "output_type": "stream",
          "text": [
            "Found GPU at: /device:GPU:0\n"
          ],
          "name": "stdout"
        }
      ]
    },
    {
      "cell_type": "code",
      "metadata": {
        "colab": {
          "base_uri": "https://localhost:8080/"
        },
        "id": "wd4W1HAYvsUt",
        "outputId": "883e8b81-4475-4db2-f33e-20832f321b58"
      },
      "source": [
        "# 디바이스 설정\r\n",
        "import torch\r\n",
        "if torch.cuda.is_available():    \r\n",
        "    device = torch.device(\"cuda\")\r\n",
        "    print('There are %d GPU(s) available.' % torch.cuda.device_count())\r\n",
        "    print('We will use the GPU:', torch.cuda.get_device_name(0))\r\n",
        "else:\r\n",
        "    device = torch.device(\"cpu\")\r\n",
        "    print('No GPU available, using the CPU instead.')"
      ],
      "execution_count": null,
      "outputs": [
        {
          "output_type": "stream",
          "text": [
            "There are 1 GPU(s) available.\n",
            "We will use the GPU: Tesla P100-PCIE-16GB\n"
          ],
          "name": "stdout"
        }
      ]
    },
    {
      "cell_type": "code",
      "metadata": {
        "colab": {
          "base_uri": "https://localhost:8080/"
        },
        "id": "IlfH7iIOrgoB",
        "outputId": "99667ec3-2e9e-424a-c88d-c63b02c84bf3"
      },
      "source": [
        "#train\r\n",
        "!CUDA_VISIBLE_DEVICES=0 python /content/MatchSum/train_matching.py --mode=train --encoder=roberta --save_path=./roberta --gpus=0\r\n",
        "# 메모리 부족으로 train 불가"
      ],
      "execution_count": null,
      "outputs": [
        {
          "output_type": "stream",
          "text": [
            "Training process of MatchSum !!!\n",
            "Start loading datasets !!!\n",
            "Finished in 0:02:36.309449\n",
            "Information of dataset is:\n",
            "In total 2 datasets:\n",
            "\ttrain has 287084 instances.\n",
            "\tval has 13367 instances.\n",
            "\n",
            "Devices is:\n",
            "[0]\n",
            "input fields after batch(if batch size is 2):\n",
            "\tcandidate_id: (1)type:torch.Tensor (2)dtype:torch.int64, (3)shape:torch.Size([2, 20, 113]) \n",
            "\ttext_id: (1)type:torch.Tensor (2)dtype:torch.int64, (3)shape:torch.Size([2, 507]) \n",
            "\tsummary_id: (1)type:torch.Tensor (2)dtype:torch.int64, (3)shape:torch.Size([2, 55]) \n",
            "There is no target field.\n",
            "Start training with the following hyper-parameters:\n",
            "{'encoder': 'roberta', 'candidate_num': 10, 'batch_size': 4, 'accum_count': 2, 'max_lr': 2e-05, 'margin': 0.01, 'warmup_steps': 10000, 'n_epochs': 2, 'valid_steps': 1000}\n",
            "training epochs started 2021-01-18-14-57-08-497592\n",
            "Traceback (most recent call last):\n",
            "  File \"/content/MatchSum/train_matching.py\", line 150, in <module>\n",
            "    train_model(args)\n",
            "  File \"/content/MatchSum/train_matching.py\", line 79, in train_model\n",
            "    trainer.train()\n",
            "  File \"/usr/local/lib/python3.6/dist-packages/fastNLP/core/trainer.py\", line 622, in train\n",
            "    raise e\n",
            "  File \"/usr/local/lib/python3.6/dist-packages/fastNLP/core/trainer.py\", line 615, in train\n",
            "    self._train()\n",
            "  File \"/usr/local/lib/python3.6/dist-packages/fastNLP/core/trainer.py\", line 673, in _train\n",
            "    prediction = self._data_forward(self.model, batch_x)\n",
            "  File \"/usr/local/lib/python3.6/dist-packages/fastNLP/core/trainer.py\", line 766, in _data_forward\n",
            "    y = network(**x)\n",
            "  File \"/usr/local/lib/python3.6/dist-packages/torch/nn/modules/module.py\", line 727, in _call_impl\n",
            "    result = self.forward(*input, **kwargs)\n",
            "  File \"/content/MatchSum/model.py\", line 47, in forward\n",
            "    out = self.encoder(candidate_id, attention_mask=input_mask)[0]\n",
            "  File \"/usr/local/lib/python3.6/dist-packages/torch/nn/modules/module.py\", line 727, in _call_impl\n",
            "    result = self.forward(*input, **kwargs)\n",
            "  File \"/usr/local/lib/python3.6/dist-packages/transformers/models/roberta/modeling_roberta.py\", line 808, in forward\n",
            "    return_dict=return_dict,\n",
            "  File \"/usr/local/lib/python3.6/dist-packages/torch/nn/modules/module.py\", line 727, in _call_impl\n",
            "    result = self.forward(*input, **kwargs)\n",
            "  File \"/usr/local/lib/python3.6/dist-packages/transformers/models/roberta/modeling_roberta.py\", line 505, in forward\n",
            "    output_attentions,\n",
            "  File \"/usr/local/lib/python3.6/dist-packages/torch/nn/modules/module.py\", line 727, in _call_impl\n",
            "    result = self.forward(*input, **kwargs)\n",
            "  File \"/usr/local/lib/python3.6/dist-packages/transformers/models/roberta/modeling_roberta.py\", line 398, in forward\n",
            "    past_key_value=self_attn_past_key_value,\n",
            "  File \"/usr/local/lib/python3.6/dist-packages/torch/nn/modules/module.py\", line 727, in _call_impl\n",
            "    result = self.forward(*input, **kwargs)\n",
            "  File \"/usr/local/lib/python3.6/dist-packages/transformers/models/roberta/modeling_roberta.py\", line 328, in forward\n",
            "    output_attentions,\n",
            "  File \"/usr/local/lib/python3.6/dist-packages/torch/nn/modules/module.py\", line 727, in _call_impl\n",
            "    result = self.forward(*input, **kwargs)\n",
            "  File \"/usr/local/lib/python3.6/dist-packages/transformers/models/roberta/modeling_roberta.py\", line 208, in forward\n",
            "    value_layer = self.transpose_for_scores(self.value(hidden_states))\n",
            "  File \"/usr/local/lib/python3.6/dist-packages/torch/nn/modules/module.py\", line 727, in _call_impl\n",
            "    result = self.forward(*input, **kwargs)\n",
            "  File \"/usr/local/lib/python3.6/dist-packages/torch/nn/modules/linear.py\", line 93, in forward\n",
            "    return F.linear(input, self.weight, self.bias)\n",
            "  File \"/usr/local/lib/python3.6/dist-packages/torch/nn/functional.py\", line 1692, in linear\n",
            "    output = input.matmul(weight.t())\n",
            "RuntimeError: CUDA out of memory. Tried to allocate 44.00 MiB (GPU 0; 15.75 GiB total capacity; 13.71 GiB already allocated; 37.88 MiB free; 14.09 GiB reserved in total by PyTorch)\n"
          ],
          "name": "stdout"
        }
      ]
    },
    {
      "cell_type": "code",
      "metadata": {
        "colab": {
          "base_uri": "https://localhost:8080/"
        },
        "id": "Pw-8LSy07ppg",
        "outputId": "dc96249a-7d36-460c-cbbe-687465d9cec9"
      },
      "source": [
        "# 기존에 훈련된 모델 가져오기\r\n",
        "model = torch.load('/content/MatchSum/model/MatchSum_cnndm_bert.ckpt')"
      ],
      "execution_count": null,
      "outputs": [
        {
          "output_type": "stream",
          "text": [
            "/usr/local/lib/python3.6/dist-packages/torch/serialization.py:658: SourceChangeWarning: source code of class 'model.MatchSum' has changed. you can retrieve the original source code by accessing the object's source attribute or set `torch.nn.Module.dump_patches = True` and use the patch tool to revert the changes.\n",
            "  warnings.warn(msg, SourceChangeWarning)\n",
            "/usr/local/lib/python3.6/dist-packages/torch/serialization.py:658: SourceChangeWarning: source code of class 'transformers.modeling_bert.BertModel' has changed. you can retrieve the original source code by accessing the object's source attribute or set `torch.nn.Module.dump_patches = True` and use the patch tool to revert the changes.\n",
            "  warnings.warn(msg, SourceChangeWarning)\n",
            "/usr/local/lib/python3.6/dist-packages/torch/serialization.py:658: SourceChangeWarning: source code of class 'transformers.modeling_bert.BertEmbeddings' has changed. you can retrieve the original source code by accessing the object's source attribute or set `torch.nn.Module.dump_patches = True` and use the patch tool to revert the changes.\n",
            "  warnings.warn(msg, SourceChangeWarning)\n",
            "/usr/local/lib/python3.6/dist-packages/torch/serialization.py:658: SourceChangeWarning: source code of class 'torch.nn.modules.sparse.Embedding' has changed. you can retrieve the original source code by accessing the object's source attribute or set `torch.nn.Module.dump_patches = True` and use the patch tool to revert the changes.\n",
            "  warnings.warn(msg, SourceChangeWarning)\n",
            "/usr/local/lib/python3.6/dist-packages/torch/serialization.py:658: SourceChangeWarning: source code of class 'torch.nn.modules.normalization.LayerNorm' has changed. you can retrieve the original source code by accessing the object's source attribute or set `torch.nn.Module.dump_patches = True` and use the patch tool to revert the changes.\n",
            "  warnings.warn(msg, SourceChangeWarning)\n",
            "/usr/local/lib/python3.6/dist-packages/torch/serialization.py:658: SourceChangeWarning: source code of class 'torch.nn.modules.dropout.Dropout' has changed. you can retrieve the original source code by accessing the object's source attribute or set `torch.nn.Module.dump_patches = True` and use the patch tool to revert the changes.\n",
            "  warnings.warn(msg, SourceChangeWarning)\n",
            "/usr/local/lib/python3.6/dist-packages/torch/serialization.py:658: SourceChangeWarning: source code of class 'transformers.modeling_bert.BertEncoder' has changed. you can retrieve the original source code by accessing the object's source attribute or set `torch.nn.Module.dump_patches = True` and use the patch tool to revert the changes.\n",
            "  warnings.warn(msg, SourceChangeWarning)\n",
            "/usr/local/lib/python3.6/dist-packages/torch/serialization.py:658: SourceChangeWarning: source code of class 'torch.nn.modules.container.ModuleList' has changed. you can retrieve the original source code by accessing the object's source attribute or set `torch.nn.Module.dump_patches = True` and use the patch tool to revert the changes.\n",
            "  warnings.warn(msg, SourceChangeWarning)\n",
            "/usr/local/lib/python3.6/dist-packages/torch/serialization.py:658: SourceChangeWarning: source code of class 'transformers.modeling_bert.BertLayer' has changed. you can retrieve the original source code by accessing the object's source attribute or set `torch.nn.Module.dump_patches = True` and use the patch tool to revert the changes.\n",
            "  warnings.warn(msg, SourceChangeWarning)\n",
            "/usr/local/lib/python3.6/dist-packages/torch/serialization.py:658: SourceChangeWarning: source code of class 'transformers.modeling_bert.BertAttention' has changed. you can retrieve the original source code by accessing the object's source attribute or set `torch.nn.Module.dump_patches = True` and use the patch tool to revert the changes.\n",
            "  warnings.warn(msg, SourceChangeWarning)\n",
            "/usr/local/lib/python3.6/dist-packages/torch/serialization.py:658: SourceChangeWarning: source code of class 'transformers.modeling_bert.BertSelfAttention' has changed. you can retrieve the original source code by accessing the object's source attribute or set `torch.nn.Module.dump_patches = True` and use the patch tool to revert the changes.\n",
            "  warnings.warn(msg, SourceChangeWarning)\n",
            "/usr/local/lib/python3.6/dist-packages/torch/serialization.py:658: SourceChangeWarning: source code of class 'torch.nn.modules.linear.Linear' has changed. you can retrieve the original source code by accessing the object's source attribute or set `torch.nn.Module.dump_patches = True` and use the patch tool to revert the changes.\n",
            "  warnings.warn(msg, SourceChangeWarning)\n",
            "/usr/local/lib/python3.6/dist-packages/torch/serialization.py:658: SourceChangeWarning: source code of class 'transformers.modeling_bert.BertSelfOutput' has changed. you can retrieve the original source code by accessing the object's source attribute or set `torch.nn.Module.dump_patches = True` and use the patch tool to revert the changes.\n",
            "  warnings.warn(msg, SourceChangeWarning)\n",
            "/usr/local/lib/python3.6/dist-packages/torch/serialization.py:658: SourceChangeWarning: source code of class 'transformers.modeling_bert.BertOutput' has changed. you can retrieve the original source code by accessing the object's source attribute or set `torch.nn.Module.dump_patches = True` and use the patch tool to revert the changes.\n",
            "  warnings.warn(msg, SourceChangeWarning)\n",
            "/usr/local/lib/python3.6/dist-packages/torch/serialization.py:658: SourceChangeWarning: source code of class 'torch.nn.modules.activation.Tanh' has changed. you can retrieve the original source code by accessing the object's source attribute or set `torch.nn.Module.dump_patches = True` and use the patch tool to revert the changes.\n",
            "  warnings.warn(msg, SourceChangeWarning)\n"
          ],
          "name": "stderr"
        }
      ]
    },
    {
      "cell_type": "code",
      "metadata": {
        "id": "wWrgezwdFw3x"
      },
      "source": [
        "'''\r\n",
        "!python  /content/MatchSum/preprocess/get_candidate.py\r\n",
        " --tokenizer=bert \r\n",
        " --data_path=/path/to/your_original_data.jsonl  \r\n",
        " --index_path=/path/to/your_index.jsonl  \r\n",
        " --write_path=/path/to/store/your_processed_data.jsonl\r\n",
        " '''"
      ],
      "execution_count": null,
      "outputs": []
    },
    {
      "cell_type": "code",
      "metadata": {
        "colab": {
          "base_uri": "https://localhost:8080/",
          "height": 410,
          "referenced_widgets": [
            "192f114f0618438c886eaff6b2b87a27",
            "d587149c3da346b5a4243573da618257",
            "311a5981ea6f4858b51da0570ea4ec80",
            "aeae1244449648a7bcf39f2e907e7c1b",
            "baf088a5695a4fd1a3680483d5ac1681",
            "c1ffeb720d934fa2b090bbbd4fcc3be9",
            "1cd8bbc73dc44c7f951975fe2d80f7e3",
            "17e7b386fb01481ca52e86cb129abb04"
          ]
        },
        "id": "2rFdGswZIYhy",
        "outputId": "d7b352b2-148c-44cf-bf31-77fa96e8f6ab"
      },
      "source": [
        "from fastNLP.core.tester import Tester\r\n",
        "from metrics import MarginRankingLoss, ValidMetric, MatchRougeMetric\r\n",
        "from fastNLP.core.batch import DataSetIter\r\n",
        "from fastNLP import DataSet\r\n",
        "data = '''\r\n",
        "The Chrysler Building, the famous art deco New York skyscraper, will be sold for a small fraction of its previous sales price.\r\n",
        "The deal, first reported by The Real Deal, was for $150 million, according to a source familiar with the deal.\r\n",
        "Mubadala, an Abu Dhabi investment fund, purchased 90% of the building for $800 million in 2008.\r\n",
        "Real estate firm Tishman Speyer had owned the other 10%.\r\n",
        "The buyer is RFR Holding, a New York real estate company.\r\n",
        "Officials with Tishman and RFR did not immediately respond to a request for comments.\r\n",
        "It's unclear when the deal will close.\r\n",
        "The building sold fairly quickly after being publicly placed on the market only two months ago.\r\n",
        "The sale was handled by CBRE Group.\r\n",
        "The incentive to sell the building at such a huge loss was due to the soaring rent the owners pay to Cooper Union, a New York college, for the land under the building.\r\n",
        "The rent is rising from $7.75 million last year to $32.5 million this year to $41 million in 2028.\r\n",
        "Meantime, rents in the building itself are not rising nearly that fast.\r\n",
        "While the building is an iconic landmark in the New York skyline, it is competing against newer office towers with large floor-to-ceiling windows and all the modern amenities.\r\n",
        "Still the building is among the best known in the city, even to people who have never been to New York.\r\n",
        "It is famous for its triangle-shaped, vaulted windows worked into the stylized crown, along with its distinctive eagle gargoyles near the top.\r\n",
        "It has been featured prominently in many films, including Men in Black 3, Spider-Man, Armageddon, Two Weeks Notice and Independence Day.\r\n",
        "The previous sale took place just before the 2008 financial meltdown led to a plunge in real estate prices.\r\n",
        "Still there have been a number of high profile skyscrapers purchased for top dollar in recent years, including the Waldorf Astoria hotel, which Chinese firm Anbang Insurance purchased in 2016 for nearly $2 billion, and the Willis Tower in Chicago, which was formerly known as Sears Tower, once the world's tallest.\r\n",
        "Blackstone Group (BX) bought it for $1.3 billion 2015.\r\n",
        "The Chrysler Building was the headquarters of the American automaker until 1953, but it was named for and owned by Chrysler chief Walter Chrysler, not the company itself.\r\n",
        "Walter Chrysler had set out to build the tallest building in the world, a competition at that time with another Manhattan skyscraper under construction at 40 Wall Street at the south end of Manhattan. He kept secret the plans for the spire that would grace the top of the building, building it inside the structure and out of view of the public until 40 Wall Street was complete.\r\n",
        "Once the competitor could rise no higher, the spire of the Chrysler building was raised into view, giving it the title.\r\n",
        "'''\r\n",
        "#test_set =DataSetIter(dataset=data, batch_size=1)\r\n",
        "test_set = DataSet({'text_id' : data.split()})\r\n",
        "test_metric = MatchRougeMetric(data=test_set, dec_path='', \r\n",
        "                                  ref_path='', n_total = len(test_set))\r\n",
        "tester = Tester(data=test_set, model=model, metrics=[test_metric])\r\n",
        "                ## batch_size=4, \r\n",
        "                ##device=device, \r\n",
        "                ##use_tqdm=False)\r\n",
        "tester.test()\r\n"
      ],
      "execution_count": null,
      "outputs": [
        {
          "output_type": "display_data",
          "data": {
            "application/vnd.jupyter.widget-view+json": {
              "model_id": "192f114f0618438c886eaff6b2b87a27",
              "version_minor": 0,
              "version_major": 2
            },
            "text/plain": [
              "HBox(children=(FloatProgress(value=0.0, layout=Layout(flex='2'), max=30.0), HTML(value='')), layout=Layout(dis…"
            ]
          },
          "metadata": {
            "tags": []
          }
        },
        {
          "output_type": "stream",
          "text": [
            "\r"
          ],
          "name": "stdout"
        },
        {
          "output_type": "error",
          "ename": "TypeError",
          "evalue": "ignored",
          "traceback": [
            "\u001b[0;31m---------------------------------------------------------------------------\u001b[0m",
            "\u001b[0;31mTypeError\u001b[0m                                 Traceback (most recent call last)",
            "\u001b[0;32m<ipython-input-80-e33df2c2751a>\u001b[0m in \u001b[0;36m<module>\u001b[0;34m()\u001b[0m\n\u001b[1;32m     35\u001b[0m                 \u001b[0;31m##device=device,\u001b[0m\u001b[0;34m\u001b[0m\u001b[0;34m\u001b[0m\u001b[0;34m\u001b[0m\u001b[0m\n\u001b[1;32m     36\u001b[0m                 \u001b[0;31m##use_tqdm=False)\u001b[0m\u001b[0;34m\u001b[0m\u001b[0;34m\u001b[0m\u001b[0;34m\u001b[0m\u001b[0m\n\u001b[0;32m---> 37\u001b[0;31m \u001b[0mtester\u001b[0m\u001b[0;34m.\u001b[0m\u001b[0mtest\u001b[0m\u001b[0;34m(\u001b[0m\u001b[0;34m)\u001b[0m\u001b[0;34m\u001b[0m\u001b[0;34m\u001b[0m\u001b[0m\n\u001b[0m",
            "\u001b[0;32m/usr/local/lib/python3.6/dist-packages/fastNLP/core/tester.py\u001b[0m in \u001b[0;36mtest\u001b[0;34m(self)\u001b[0m\n\u001b[1;32m    173\u001b[0m                     \u001b[0;32mfor\u001b[0m \u001b[0mbatch_x\u001b[0m\u001b[0;34m,\u001b[0m \u001b[0mbatch_y\u001b[0m \u001b[0;32min\u001b[0m \u001b[0mdata_iterator\u001b[0m\u001b[0;34m:\u001b[0m\u001b[0;34m\u001b[0m\u001b[0;34m\u001b[0m\u001b[0m\n\u001b[1;32m    174\u001b[0m                         \u001b[0m_move_dict_value_to_device\u001b[0m\u001b[0;34m(\u001b[0m\u001b[0mbatch_x\u001b[0m\u001b[0;34m,\u001b[0m \u001b[0mbatch_y\u001b[0m\u001b[0;34m,\u001b[0m \u001b[0mdevice\u001b[0m\u001b[0;34m=\u001b[0m\u001b[0mself\u001b[0m\u001b[0;34m.\u001b[0m\u001b[0m_model_device\u001b[0m\u001b[0;34m)\u001b[0m\u001b[0;34m\u001b[0m\u001b[0;34m\u001b[0m\u001b[0m\n\u001b[0;32m--> 175\u001b[0;31m                         \u001b[0mpred_dict\u001b[0m \u001b[0;34m=\u001b[0m \u001b[0mself\u001b[0m\u001b[0;34m.\u001b[0m\u001b[0m_data_forward\u001b[0m\u001b[0;34m(\u001b[0m\u001b[0mself\u001b[0m\u001b[0;34m.\u001b[0m\u001b[0m_predict_func\u001b[0m\u001b[0;34m,\u001b[0m \u001b[0mbatch_x\u001b[0m\u001b[0;34m)\u001b[0m\u001b[0;34m\u001b[0m\u001b[0;34m\u001b[0m\u001b[0m\n\u001b[0m\u001b[1;32m    176\u001b[0m                         \u001b[0;32mif\u001b[0m \u001b[0;32mnot\u001b[0m \u001b[0misinstance\u001b[0m\u001b[0;34m(\u001b[0m\u001b[0mpred_dict\u001b[0m\u001b[0;34m,\u001b[0m \u001b[0mdict\u001b[0m\u001b[0;34m)\u001b[0m\u001b[0;34m:\u001b[0m\u001b[0;34m\u001b[0m\u001b[0;34m\u001b[0m\u001b[0m\n\u001b[1;32m    177\u001b[0m                             raise TypeError(f\"The return value of {_get_func_signature(self._predict_func)} \"\n",
            "\u001b[0;32m/usr/local/lib/python3.6/dist-packages/fastNLP/core/tester.py\u001b[0m in \u001b[0;36m_data_forward\u001b[0;34m(self, func, x)\u001b[0m\n\u001b[1;32m    221\u001b[0m         \u001b[0;34mr\"\"\"A forward pass of the model. \"\"\"\u001b[0m\u001b[0;34m\u001b[0m\u001b[0;34m\u001b[0m\u001b[0m\n\u001b[1;32m    222\u001b[0m         \u001b[0mx\u001b[0m \u001b[0;34m=\u001b[0m \u001b[0m_build_args\u001b[0m\u001b[0;34m(\u001b[0m\u001b[0mfunc\u001b[0m\u001b[0;34m,\u001b[0m \u001b[0;34m**\u001b[0m\u001b[0mx\u001b[0m\u001b[0;34m)\u001b[0m\u001b[0;34m\u001b[0m\u001b[0;34m\u001b[0m\u001b[0m\n\u001b[0;32m--> 223\u001b[0;31m         \u001b[0my\u001b[0m \u001b[0;34m=\u001b[0m \u001b[0mself\u001b[0m\u001b[0;34m.\u001b[0m\u001b[0m_predict_func_wrapper\u001b[0m\u001b[0;34m(\u001b[0m\u001b[0;34m**\u001b[0m\u001b[0mx\u001b[0m\u001b[0;34m)\u001b[0m\u001b[0;34m\u001b[0m\u001b[0;34m\u001b[0m\u001b[0m\n\u001b[0m\u001b[1;32m    224\u001b[0m         \u001b[0;32mreturn\u001b[0m \u001b[0my\u001b[0m\u001b[0;34m\u001b[0m\u001b[0;34m\u001b[0m\u001b[0m\n\u001b[1;32m    225\u001b[0m \u001b[0;34m\u001b[0m\u001b[0m\n",
            "\u001b[0;31mTypeError\u001b[0m: forward() missing 3 required positional arguments: 'text_id', 'candidate_id', and 'summary_id'"
          ]
        }
      ]
    },
    {
      "cell_type": "code",
      "metadata": {
        "id": "sk6UV6i_NveS"
      },
      "source": [
        "import json # import json module\r\n",
        "\r\n",
        "# with statement\r\n",
        "#with open('/content/MatchSum/data/train_CNNDM_bert.jsonl') as json_file:\r\n",
        "#    train_json_data = json.load(json_file)\r\n",
        "\r\n",
        "\r\n",
        "\r\n",
        "file_path = '/content/MatchSum/dataset/train_CNNDM_roberta.jsonl'\r\n",
        "with open(file_path, \"r\") as json_file:\r\n",
        "    json_data = json.load(json_file)\r\n",
        "print(json_data)    "
      ],
      "execution_count": null,
      "outputs": []
    },
    {
      "cell_type": "code",
      "metadata": {
        "colab": {
          "base_uri": "https://localhost:8080/"
        },
        "id": "rOvt9yt8QIy2",
        "outputId": "5be8dcc2-f116-4149-b282-52eee957ddbc"
      },
      "source": [
        "os.path.isfile('/content/MatchSum/dataset/train_CNNDM_bert.jsonl')"
      ],
      "execution_count": null,
      "outputs": [
        {
          "output_type": "execute_result",
          "data": {
            "text/plain": [
              "True"
            ]
          },
          "metadata": {
            "tags": []
          },
          "execution_count": 57
        }
      ]
    },
    {
      "cell_type": "code",
      "metadata": {
        "colab": {
          "base_uri": "https://localhost:8080/"
        },
        "id": "ejz0SifPUrNP",
        "outputId": "526c5704-3b27-4543-9da7-01ccc8fb5bc0"
      },
      "source": [
        "!pip install fastNLP"
      ],
      "execution_count": null,
      "outputs": [
        {
          "output_type": "stream",
          "text": [
            "Collecting fastNLP\n",
            "\u001b[?25l  Downloading https://files.pythonhosted.org/packages/49/76/c80dc6ba0c29ca0ac7ae8b15d5e443628ed901651b55d4edba9436de59ae/FastNLP-0.6.0.tar.gz (295kB)\n",
            "\r\u001b[K     |█                               | 10kB 29.5MB/s eta 0:00:01\r\u001b[K     |██▏                             | 20kB 14.4MB/s eta 0:00:01\r\u001b[K     |███▎                            | 30kB 9.9MB/s eta 0:00:01\r\u001b[K     |████▍                           | 40kB 8.3MB/s eta 0:00:01\r\u001b[K     |█████▌                          | 51kB 4.2MB/s eta 0:00:01\r\u001b[K     |██████▋                         | 61kB 4.7MB/s eta 0:00:01\r\u001b[K     |███████▊                        | 71kB 4.9MB/s eta 0:00:01\r\u001b[K     |████████▉                       | 81kB 5.1MB/s eta 0:00:01\r\u001b[K     |██████████                      | 92kB 5.5MB/s eta 0:00:01\r\u001b[K     |███████████                     | 102kB 5.8MB/s eta 0:00:01\r\u001b[K     |████████████▏                   | 112kB 5.8MB/s eta 0:00:01\r\u001b[K     |█████████████▎                  | 122kB 5.8MB/s eta 0:00:01\r\u001b[K     |██████████████▍                 | 133kB 5.8MB/s eta 0:00:01\r\u001b[K     |███████████████▌                | 143kB 5.8MB/s eta 0:00:01\r\u001b[K     |████████████████▋               | 153kB 5.8MB/s eta 0:00:01\r\u001b[K     |█████████████████▊              | 163kB 5.8MB/s eta 0:00:01\r\u001b[K     |██████████████████▉             | 174kB 5.8MB/s eta 0:00:01\r\u001b[K     |████████████████████            | 184kB 5.8MB/s eta 0:00:01\r\u001b[K     |█████████████████████           | 194kB 5.8MB/s eta 0:00:01\r\u001b[K     |██████████████████████▏         | 204kB 5.8MB/s eta 0:00:01\r\u001b[K     |███████████████████████▎        | 215kB 5.8MB/s eta 0:00:01\r\u001b[K     |████████████████████████▍       | 225kB 5.8MB/s eta 0:00:01\r\u001b[K     |█████████████████████████▌      | 235kB 5.8MB/s eta 0:00:01\r\u001b[K     |██████████████████████████▋     | 245kB 5.8MB/s eta 0:00:01\r\u001b[K     |███████████████████████████▊    | 256kB 5.8MB/s eta 0:00:01\r\u001b[K     |████████████████████████████▉   | 266kB 5.8MB/s eta 0:00:01\r\u001b[K     |██████████████████████████████  | 276kB 5.8MB/s eta 0:00:01\r\u001b[K     |███████████████████████████████ | 286kB 5.8MB/s eta 0:00:01\r\u001b[K     |████████████████████████████████| 296kB 5.8MB/s \n",
            "\u001b[?25hRequirement already satisfied: numpy>=1.14.2 in /usr/local/lib/python3.6/dist-packages (from fastNLP) (1.19.5)\n",
            "Requirement already satisfied: torch>=1.0.0 in /usr/local/lib/python3.6/dist-packages (from fastNLP) (1.7.0+cu101)\n",
            "Requirement already satisfied: tqdm>=4.28.1 in /usr/local/lib/python3.6/dist-packages (from fastNLP) (4.41.1)\n",
            "Requirement already satisfied: prettytable>=0.7.2 in /usr/local/lib/python3.6/dist-packages (from fastNLP) (2.0.0)\n",
            "Requirement already satisfied: requests in /usr/local/lib/python3.6/dist-packages (from fastNLP) (2.23.0)\n",
            "Requirement already satisfied: spacy in /usr/local/lib/python3.6/dist-packages (from fastNLP) (2.2.4)\n",
            "Requirement already satisfied: regex!=2019.12.17 in /usr/local/lib/python3.6/dist-packages (from fastNLP) (2019.12.20)\n",
            "Requirement already satisfied: dataclasses in /usr/local/lib/python3.6/dist-packages (from torch>=1.0.0->fastNLP) (0.8)\n",
            "Requirement already satisfied: future in /usr/local/lib/python3.6/dist-packages (from torch>=1.0.0->fastNLP) (0.16.0)\n",
            "Requirement already satisfied: typing-extensions in /usr/local/lib/python3.6/dist-packages (from torch>=1.0.0->fastNLP) (3.7.4.3)\n",
            "Requirement already satisfied: wcwidth in /usr/local/lib/python3.6/dist-packages (from prettytable>=0.7.2->fastNLP) (0.2.5)\n",
            "Requirement already satisfied: setuptools in /usr/local/lib/python3.6/dist-packages (from prettytable>=0.7.2->fastNLP) (51.1.1)\n",
            "Requirement already satisfied: chardet<4,>=3.0.2 in /usr/local/lib/python3.6/dist-packages (from requests->fastNLP) (3.0.4)\n",
            "Requirement already satisfied: idna<3,>=2.5 in /usr/local/lib/python3.6/dist-packages (from requests->fastNLP) (2.10)\n",
            "Requirement already satisfied: certifi>=2017.4.17 in /usr/local/lib/python3.6/dist-packages (from requests->fastNLP) (2020.12.5)\n",
            "Requirement already satisfied: urllib3!=1.25.0,!=1.25.1,<1.26,>=1.21.1 in /usr/local/lib/python3.6/dist-packages (from requests->fastNLP) (1.24.3)\n",
            "Requirement already satisfied: blis<0.5.0,>=0.4.0 in /usr/local/lib/python3.6/dist-packages (from spacy->fastNLP) (0.4.1)\n",
            "Requirement already satisfied: catalogue<1.1.0,>=0.0.7 in /usr/local/lib/python3.6/dist-packages (from spacy->fastNLP) (1.0.0)\n",
            "Requirement already satisfied: murmurhash<1.1.0,>=0.28.0 in /usr/local/lib/python3.6/dist-packages (from spacy->fastNLP) (1.0.5)\n",
            "Requirement already satisfied: wasabi<1.1.0,>=0.4.0 in /usr/local/lib/python3.6/dist-packages (from spacy->fastNLP) (0.8.0)\n",
            "Requirement already satisfied: plac<1.2.0,>=0.9.6 in /usr/local/lib/python3.6/dist-packages (from spacy->fastNLP) (1.1.3)\n",
            "Requirement already satisfied: thinc==7.4.0 in /usr/local/lib/python3.6/dist-packages (from spacy->fastNLP) (7.4.0)\n",
            "Requirement already satisfied: preshed<3.1.0,>=3.0.2 in /usr/local/lib/python3.6/dist-packages (from spacy->fastNLP) (3.0.5)\n",
            "Requirement already satisfied: srsly<1.1.0,>=1.0.2 in /usr/local/lib/python3.6/dist-packages (from spacy->fastNLP) (1.0.5)\n",
            "Requirement already satisfied: cymem<2.1.0,>=2.0.2 in /usr/local/lib/python3.6/dist-packages (from spacy->fastNLP) (2.0.5)\n",
            "Requirement already satisfied: importlib-metadata>=0.20; python_version < \"3.8\" in /usr/local/lib/python3.6/dist-packages (from catalogue<1.1.0,>=0.0.7->spacy->fastNLP) (3.3.0)\n",
            "Requirement already satisfied: zipp>=0.5 in /usr/local/lib/python3.6/dist-packages (from importlib-metadata>=0.20; python_version < \"3.8\"->catalogue<1.1.0,>=0.0.7->spacy->fastNLP) (3.4.0)\n",
            "Building wheels for collected packages: fastNLP\n",
            "  Building wheel for fastNLP (setup.py) ... \u001b[?25l\u001b[?25hdone\n",
            "  Created wheel for fastNLP: filename=FastNLP-0.6.0-cp36-none-any.whl size=357809 sha256=280cc0f0623e8f32a7bd1f336b79924f80d4cabd62c70657c85cbdc586ed8a1a\n",
            "  Stored in directory: /root/.cache/pip/wheels/c0/d8/e0/3bb2ec341c37364582474ade181e480a2fc1b490fef5fb6b34\n",
            "Successfully built fastNLP\n",
            "Installing collected packages: fastNLP\n",
            "Successfully installed fastNLP-0.6.0\n"
          ],
          "name": "stdout"
        }
      ]
    },
    {
      "cell_type": "code",
      "metadata": {
        "colab": {
          "base_uri": "https://localhost:8080/"
        },
        "id": "aK6cYiBKfCz-",
        "outputId": "99a43adc-471a-4da2-887a-805d14e5f87b"
      },
      "source": [
        "!pip install pyrouge\r\n",
        "!pip install rouge\r\n",
        "# !pip install curry-partial"
      ],
      "execution_count": null,
      "outputs": [
        {
          "output_type": "stream",
          "text": [
            "Requirement already satisfied: pyrouge in /usr/local/lib/python3.6/dist-packages (0.1.3)\n",
            "Collecting rouge\n",
            "  Downloading https://files.pythonhosted.org/packages/43/cc/e18e33be20971ff73a056ebdb023476b5a545e744e3fc22acd8c758f1e0d/rouge-1.0.0-py3-none-any.whl\n",
            "Requirement already satisfied: six in /usr/local/lib/python3.6/dist-packages (from rouge) (1.15.0)\n",
            "Installing collected packages: rouge\n",
            "Successfully installed rouge-1.0.0\n"
          ],
          "name": "stdout"
        }
      ]
    },
    {
      "cell_type": "code",
      "metadata": {
        "colab": {
          "base_uri": "https://localhost:8080/"
        },
        "id": "RdeSWHtEWleq",
        "outputId": "e696407c-cdb8-403b-cc10-0c3d7fb513c3"
      },
      "source": [
        "# args와 동일한 형태의 데이터 인자를 넘기기 위한 테크닉\r\n",
        "'''\r\n",
        "from types import SimpleNamespace\r\n",
        "\r\n",
        "args = SimpleNamespace()\r\n",
        "\r\n",
        "# Training configuration.\r\n",
        "args.tokenizer        = 'bert'\r\n",
        "args.data_path        = 20\r\n",
        "args.batch_size     = 4\r\n",
        "args.accum_count    = 2\r\n",
        "args.max_lr         = 2e-5\r\n",
        "args.margin         = 0.01\r\n",
        "args.warmup_steps   = 10000\r\n",
        "args.n_epochs       = 2 \r\n",
        "args.valid_steps    = 1000\r\n",
        "args.mode = 'test'\r\n",
        "args.save_path = './bert'\r\n",
        "print(args)\r\n",
        "'''"
      ],
      "execution_count": null,
      "outputs": [
        {
          "output_type": "stream",
          "text": [
            "namespace(accum_count=2, batch_size=4, candidate_num=20, encoder='bert', margin=0.01, max_lr=2e-05, mode='test', n_epochs=2, save_path='./bert', valid_steps=1000, warmup_steps=10000)\n"
          ],
          "name": "stdout"
        }
      ]
    }
  ]
}